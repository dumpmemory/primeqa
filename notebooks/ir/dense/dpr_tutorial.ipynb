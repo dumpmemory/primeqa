{
 "cells": [
  {
   "attachments": {},
   "cell_type": "markdown",
   "metadata": {},
   "source": [
    "# Tutorial: Retrieval of documents from a corpus using Neural Information Retrieval (IR)\n",
    "\n",
    "In this tutorial you'll learn how to use a popular Neural IR system called DPR [Karpukhin2020].\n"
   ]
  },
  {
   "attachments": {},
   "cell_type": "markdown",
   "metadata": {},
   "source": [
    "## Step 0: Install the required packages"
   ]
  },
  {
   "cell_type": "code",
   "execution_count": null,
   "metadata": {},
   "outputs": [],
   "source": [
    "! pip install primeqa"
   ]
  },
  {
   "attachments": {},
   "cell_type": "markdown",
   "metadata": {},
   "source": [
    "## Step 1: Init -- Initialize your model. In PrimeQA for searching through your corpus, we use a class called SearchableCorpus.\n",
    "\n",
    "For DPR, you need to point to a question and context encoder models available via the HuggingFace model hub."
   ]
  },
  {
   "cell_type": "code",
   "execution_count": 3,
   "metadata": {
    "ExecuteTime": {
     "end_time": "2023-06-19T20:33:18.507111625Z",
     "start_time": "2023-06-19T20:33:18.498279522Z"
    }
   },
   "outputs": [],
   "source": [
    "# from primeqa.components.retriever.searchable_corpus import SearchableCorpus\n",
    "from primeqa.util import SearchableCorpus\n",
    "collection = SearchableCorpus(context_encoder_name_or_path=\"PrimeQA/XOR-TyDi_monolingual_DPR_ctx_encoder\",\n",
    "                              query_encoder_name_or_path=\"PrimeQA/XOR-TyDi_monolingual_DPR_qry_encoder\",\n",
    "                              batch_size=64, top_k=10)"
   ]
  },
  {
   "attachments": {},
   "cell_type": "markdown",
   "metadata": {},
   "source": [
    "## Step 2: Add -- add your documents into the searchable corpus.\n",
    "\n",
    "In this step you create a tsv file with the following format:\n",
    "`id \\t text \\t title_of_document`\n",
    "Note: since DPR is based on an encoder language model the typical sequence length is 512 max sub-word tokens. So please make sure your documents are splitted into text length of ~220 words."
   ]
  },
  {
   "cell_type": "code",
   "execution_count": 6,
   "metadata": {
    "ExecuteTime": {
     "end_time": "2023-06-19T20:37:47.017877467Z",
     "start_time": "2023-06-19T20:37:13.061229719Z"
    }
   },
   "outputs": [
    {
     "name": "stdout",
     "output_type": "stream",
     "text": [
      "{\"time\":\"2023-06-19 16:37:31,346\", \"name\": \"primeqa.ir.dense.dpr_top.dpr.index_simple_corpus\", \"level\": \"INFO\", \"message\": \"wrote passages_1_of_1.json.gz.records in 17 seconds\"}\n",
      "{\"time\":\"2023-06-19 16:37:31,347\", \"name\": \"primeqa.ir.dense.dpr_top.dpr.faiss_index\", \"level\": \"INFO\", \"message\": \"building index, reading data from dpr_index_dir/passages_1_of_1.json.gz.records, writing to dpr_index_dir/index_1_of_1.faiss\"}\n",
      "{\"time\":\"2023-06-19 16:37:31,350\", \"name\": \"primeqa.ir.dense.dpr_top.dpr.faiss_index\", \"level\": \"INFO\", \"message\": \"processed 0 passages\"}\n",
      "{\"time\":\"2023-06-19 16:37:31,685\", \"name\": \"primeqa.ir.dense.dpr_top.dpr.faiss_index\", \"level\": \"INFO\", \"message\": \"calling index.add with 10601 vectors\"}\n",
      "{\"time\":\"2023-06-19 16:37:33,624\", \"name\": \"primeqa.ir.dense.dpr_top.dpr.faiss_index\", \"level\": \"INFO\", \"message\": \"processed 10601 passages\"}\n",
      "{\"time\":\"2023-06-19 16:37:33,625\", \"name\": \"primeqa.ir.dense.dpr_top.dpr.faiss_index\", \"level\": \"INFO\", \"message\": \"finished building index, writing index file to dpr_index_dir/index_1_of_1.faiss\"}\n",
      "{\"time\":\"2023-06-19 16:37:33,668\", \"name\": \"primeqa.ir.dense.dpr_top.dpr.faiss_index\", \"level\": \"INFO\", \"message\": \"took 2 seconds\"}\n",
      "{\"time\":\"2023-06-19 16:37:33,675\", \"name\": \"primeqa.ir.dense.dpr_top.torch_util.hypers_base\", \"level\": \"INFO\", \"message\": \"world_rank 0 cuda_is_available True cuda_device_cnt 4 on euler, CUDA_VISIBLE_DEVICES = NOT SET\"}\n"
     ]
    },
    {
     "data": {
      "text/plain": "Downloading (…)lve/main/config.json:   0%|          | 0.00/664 [00:00<?, ?B/s]",
      "application/vnd.jupyter.widget-view+json": {
       "version_major": 2,
       "version_minor": 0,
       "model_id": "511e7060170f4b6d9485d1d7b05b0f90"
      }
     },
     "metadata": {},
     "output_type": "display_data"
    },
    {
     "data": {
      "text/plain": "Downloading pytorch_model.bin:   0%|          | 0.00/436M [00:00<?, ?B/s]",
      "application/vnd.jupyter.widget-view+json": {
       "version_major": 2,
       "version_minor": 0,
       "model_id": "1adafc63d7e1429d9c1fd94fc2c406c6"
      }
     },
     "metadata": {},
     "output_type": "display_data"
    },
    {
     "data": {
      "text/plain": "Downloading (…)okenizer_config.json:   0%|          | 0.00/361 [00:00<?, ?B/s]",
      "application/vnd.jupyter.widget-view+json": {
       "version_major": 2,
       "version_minor": 0,
       "model_id": "ac862ec2603648ecaebd89e001bddd95"
      }
     },
     "metadata": {},
     "output_type": "display_data"
    },
    {
     "data": {
      "text/plain": "Downloading (…)solve/main/vocab.txt:   0%|          | 0.00/232k [00:00<?, ?B/s]",
      "application/vnd.jupyter.widget-view+json": {
       "version_major": 2,
       "version_minor": 0,
       "model_id": "5f512d223b2b48b28c5071d636a0fe91"
      }
     },
     "metadata": {},
     "output_type": "display_data"
    },
    {
     "data": {
      "text/plain": "Downloading (…)/main/tokenizer.json:   0%|          | 0.00/711k [00:00<?, ?B/s]",
      "application/vnd.jupyter.widget-view+json": {
       "version_major": 2,
       "version_minor": 0,
       "model_id": "382a2bb2cada49a3a2488dc5bde8f4d2"
      }
     },
     "metadata": {},
     "output_type": "display_data"
    },
    {
     "data": {
      "text/plain": "Downloading (…)cial_tokens_map.json:   0%|          | 0.00/112 [00:00<?, ?B/s]",
      "application/vnd.jupyter.widget-view+json": {
       "version_major": 2,
       "version_minor": 0,
       "model_id": "baecf5c727774cbb933e5bd5b7a1d733"
      }
     },
     "metadata": {},
     "output_type": "display_data"
    },
    {
     "name": "stdout",
     "output_type": "stream",
     "text": [
      "{\"time\":\"2023-06-19 16:37:46,980\", \"name\": \"primeqa.ir.dense.dpr_top.dpr.searcher\", \"level\": \"INFO\", \"message\": \"Using sharded faiss, reading shards from dpr_index_dir\"}\n",
      "{\"time\":\"2023-06-19 16:37:46,982\", \"name\": \"primeqa.ir.dense.dpr_top.dpr.searcher\", \"level\": \"INFO\", \"message\": \"Reading passages_1_of_1.json.gz.records\"}\n",
      "{\"time\":\"2023-06-19 16:37:46,993\", \"name\": \"primeqa.ir.dense.dpr_top.dpr.searcher\", \"level\": \"INFO\", \"message\": \"Using sharded faiss with 1 shards.\"}\n"
     ]
    }
   ],
   "source": [
    "# Please update to point to your collection tsv format id\\ttext\\ttitle with these headers\n",
    "path_to_collection_tsv_file=\"../../../../ibm-generative-ai-cookbooks/notebooks/docs_and_qs/psgs.tsv\"\n",
    "collection.add_documents(path_to_collection_tsv_file)"
   ]
  },
  {
   "attachments": {},
   "cell_type": "markdown",
   "metadata": {},
   "source": [
    "## Step 3: Search -- start asking questions.\n",
    "\n",
    "Your queries can be a list. You can also retrieve the scores of retrieved documents."
   ]
  },
  {
   "cell_type": "code",
   "execution_count": 7,
   "metadata": {
    "ExecuteTime": {
     "end_time": "2023-06-19T20:38:13.973444191Z",
     "start_time": "2023-06-19T20:38:13.870381791Z"
    }
   },
   "outputs": [
    {
     "name": "stdout",
     "output_type": "stream",
     "text": [
      "[\n",
      "    {\n",
      "        \"titles\": [\n",
      "            \"History of Idaho\",\n",
      "            \"History of Idaho\",\n",
      "            \"Territorial evolution of the United States\",\n",
      "            \"History of Idaho\",\n",
      "            \"History of Idaho\",\n",
      "            \"List of United States cities by population\",\n",
      "            \"List of capitals in the United States\",\n",
      "            \"Alaska\",\n",
      "            \"Treaty of Guadalupe Hidalgo\",\n",
      "            \"Contiguous United States\"\n",
      "        ],\n",
      "        \"texts\": [\n",
      "            \"When President Benjamin Harrison signed the law admitting Idaho as a U.S. state on July 3 , 1890 , the population was 88,548 . George L. Shoup became the state 's first governor , but resigned after only a few weeks in office to take a seat in the United States Senate .\",\n",
      "            \"Despite their best efforts , early American fur companies in this region had difficulty maintaining the long - distance supply lines from the Missouri River system into the Intermountain West . However , Americans William H. Ashley and Jedediah Smith expanded the Saint Louis fur trade into Idaho in 1824 . The 1832 trapper 's rendezvous at Pierre 's Hole , held at the foot of the Three Tetons in modern Teton County , was followed by an intense battle between the Gros Ventre and a large party of American trappers aided by their Nez Perce and Flathead allies .\",\n",
      "            \"March 16 , 1896 The dispute between the federal government , on behalf of Oklahoma Territory , and Texas over Greer County was resolved in favor of the federal claim .\",\n",
      "            \"The British - owned Hudson 's Bay Company next entered Idaho and controlled the trade in the Snake River area by the 1820s . The North West Company 's interior department of the Columbia was created in June 1816 , and Donald Mackenzie was assigned as its head . Mackenzie had previously been employed by Hudson 's Bay and had been a partner in the Pacific Fur Company , financed principally by John Jacob Astor . During these early years , he traveled west with a Pacific Fur Company 's party and was involved in the initial exploration of the Salmon River and Clearwater River . The company proceeded down the lower Snake River and Columbia River by canoe , and were the first of the Overland Astorians to reach Fort Astoria , on January 18 , 1812 .\",\n",
      "            \"The history of Idaho is an examination of the human history and social activity within the state of Idaho , one of the United States of America located in the Pacific Northwest area near the west coast of the United States and Canada . Other associated areas include southern Alaska , all of British Columbia , Washington , Oregon , western Montana and northern California and Nevada .\",\n",
      "            \"; - 77.4760 \\ufeff ( Richmond ) 98 Boise Idaho 226,570 205,671 + 10.16 % 82.1 sq mi 212.6 km 2,718 / sq mi 1,049 / km 43 \\u00b0 36 \\u2032 01 '' N 116 \\u00b0 13 \\u2032 54 '' W \\ufeff / \\ufeff 43.6002 \\u00b0 N 116.2317 \\u00b0 W \\ufeff / 43.6002 ; - 116.2317 \\ufeff ( Boise ) 99 Baton Rouge Louisiana 225,374 229,493 2999820517401402220 \\u2660 \\u2212 1.79 % 85.9 sq mi 222.5 km 2,651 / sq mi 1,024 / km 30 \\u00b0 26 \\u2032 32 '' N 91 \\u00b0 07 \\u2032 51 '' W \\ufeff / \\ufeff 30.4422 \\u00b0 N 91.1309 \\u00b0 W \\ufeff / 30.4422 ; - 91.1309 \\ufeff ( Baton Rouge ) 100 Des Moines Iowa 217,521 203,433 + 6.93 % 88.9 sq mi 230.2 km 2,424 / sq mi 936 / km 41 \\u00b0 34 \\u2032 21 '' N 93 \\u00b0 36 \\u2032 37 '' W \\ufeff / \\ufeff 41.5726 \\u00b0 N 93.6102 \\u00b0 W \\ufeff / 41.5726 ; - 93.6102 \\ufeff ( Des Moines ) 101 Spokane Washington 217,108 208,916 + 3.92 % 68.7 sq mi 177.9 km 3,144 / sq mi 1,214 / km 47 \\u00b0 40 \\u2032 01 '' N 117 \\u00b0 26 \\u2032 00 '' W \\ufeff / \\ufeff 47.6669 \\u00b0 N 117.4333 \\u00b0 W \\ufeff / 47.6669 ; - 117.4333 \\ufeff ( Spokane ) 102 San Bernardino California 216,995 209,924 + 3.37 % 61.5 sq mi 159.3 km 3,516 / sq mi 1,358 / km 34 \\u00b0 08 \\u2032\",\n",
      "            \"1848 Capitals of the Territory of Oregon ( west of Continental Divide 1848 -- 1853 . )\",\n",
      "            \"The United States purchased Alaska from the Russian Empire on March 30 , 1867 , for 7.2 million U.S. dollars at approximately two cents per acre ( $4.74 / km ) . The area went through several administrative changes before becoming organized as a territory on May 11 , 1912 . It was admitted as the 49th state of the U.S. on January 3 , 1959 .\",\n",
      "            \"The land that the Treaty of Guadalupe Hidalgo brought into the United States became , between 1850 and 1912 , all or part of ten states : California ( 1850 ) , Nevada ( 1869 ) , Utah ( 1896 ) , and Arizona ( 1912 ) , as well as , depending upon interpretation , the entire state of Texas ( 1845 ) , which then included part of Kansas ( 1861 ) ; Colorado ( 1876 ) ; Wyoming ( 1890 ) ; Oklahoma ( 1907 ) ; and New Mexico ( 1912 ) . The remainder ( the southern parts ) of New Mexico and Arizona were peacefully purchased under the Gadsden Purchase , which was carried out in 1853 . In this purchase the United States paid an additional $10 million ( equivalent to $290 million today ) , for land intended to accommodate a transcontinental railroad . However , the American Civil War delayed construction of such a route , and it was not until 1881 that the Southern Pacific Railroad finally was completed , fulfilling the purpose of the acquisition .\",\n",
      "            \"Alaska became the 49th state of the United States on January 3 , 1959 . Alaska is on the northwest end of the North American continent , but separated from the rest of the United States Pacific coast by the Canadian province of British Columbia . In Alaska , given the ambiguity surrounding the usage of continental , the term `` continental United States '' is almost unheard of when referring to the contiguous 48 states . Several other terms have been used over the years . The term Lower 48 has , for many years , been a common Alaskan equivalent for `` contiguous United States '' ; today , more Alaskans use the term `` Outside '' , though a few persons may use `` Outside '' to refer to any location not within Alaska .\"\n",
      "        ],\n",
      "        \"scores\": [\n",
      "            82.86104583740234,\n",
      "            80.50155639648438,\n",
      "            80.00294494628906,\n",
      "            79.74250793457031,\n",
      "            79.11519622802734,\n",
      "            77.20701599121094,\n",
      "            76.37078094482422,\n",
      "            76.28617858886719,\n",
      "            76.23443603515625,\n",
      "            75.3434829711914\n",
      "        ]\n",
      "    },\n",
      "    {\n",
      "        \"titles\": [\n",
      "            \"Voltron: Legendary Defender\",\n",
      "            \"Danny Romalotti\",\n",
      "            \"Moana (2016 film)\",\n",
      "            \"Last Vegas\",\n",
      "            \"John Aniston\",\n",
      "            \"Matt Monro\",\n",
      "            \"Pinewood derby\",\n",
      "            \"Danny Romalotti\",\n",
      "            \"Voltron: Legendary Defender\",\n",
      "            \"Voltron: Legendary Defender\"\n",
      "        ],\n",
      "        \"texts\": [\n",
      "            \"BTVA People 's Choice Award for Best Male Vocal Performance in a Television Series Rhys Darby ( Coran ) Won\",\n",
      "            \"In 1987 , Danny and Gina 's father , Brian Romalotti ( Quinn Redeker ) , turned up in Genoa City , a homeless drifter just out of prison . He was molded and renamed by Jill Foster Abbott ( Jess Walton ) as `` Rex Sterling '' in order to con Kay Chancellor ( Jeanne Cooper ) . Then , Rex and Kay fell in love , and he became a `` good guy '' after all . They married in 1988 , and again in 1992 . Danny , Gina and Rex ended up becoming very close until Rex 's untimely death in 1994 .\",\n",
      "            \"Dwayne Johnson as Maui , a legendary shapeshifting demigod who sets off with Moana on her journey\",\n",
      "            \"Last Vegas is a 2013 American comedy film directed by Jon Turteltaub , written by Dan Fogelman and starring Michael Douglas , Robert De Niro , Morgan Freeman , Kevin Kline and Mary Steenburgen . The plot surrounds three retirees who travel to Las Vegas to have a bachelor party for their last remaining single friend .\",\n",
      "            \"John Anthony Aniston ( born Giannis Anastasakis ; Greek : \\u0393\\u03b9\\u03ac\\u03bd\\u03bd\\u03b7\\u03c2 \\u0391\\u03bd\\u03b1\\u03c3\\u03c4\\u03b1\\u03c3\\u03ac\\u03ba\\u03b7\\u03c2 ; July 24 , 1933 ) is a Greek - American actor . He is best known for his role as Victor Kiriakis on the NBC daytime drama series Days of Our Lives , which he originated in July 1985 and has played continually since then . He is the father of actress Jennifer Aniston .\",\n",
      "            \"In 1973 Monro released a vocal version of the popular Van der Valk TV - series theme titled `` And You Smiled '' , with lyrics written by Melvyn Taggart . It was his final hit . In 1977 , he recorded the Don Black penned , `` If I Never Sing Another Song '' , which became a latter - day standard among his contemporaries , its lyrics referring to the `` heyday '' of fan mail , awards , and other trappings of celebrity that had faded for them .\",\n",
      "            \"Murphy continued to run the derby program through the Management Club until his retirement from North American Aviation in 1978 . He died in 2008 .\",\n",
      "            \"In 2004 , Daniel returned to Genoa City as 16 - year - old with raging hormones . He came home to visit his father for spring break . Phyllis heard that he was coming home , and she was desperate to get to know her son again . Danny and Christine told Phyllis to wait until they informed Daniel about his mother . Meanwhile , Daniel was befriended by Colleen Carlton ( then portrayed by Lyndsy Fonseca ) , Lily Winters ( Christel Khalil ) and their friends . Phyllis ran into Daniel at the Crimson Lights coffeehouse ; she realized who he was , and she began to talk to him . She told Daniel that she was his mother , and eventually , he asked her to tell him the truth about his family . Once Daniel discovered that Danny was not his biological father , he took off to confront him and Christine , who had resumed their romance . Daniel then decided that he should move in with his mother so they could get to know each other . Unable to find a suitable apartment , Phyllis and Daniel moved into Victoria Newman 's ( Heather Tom ) house on the Newman Ranch . After being exposed as a neglectful parent who dumped his son in boarding school , Danny left Genoa City and went back on tour in 2004 .\",\n",
      "            \"The seventh season premiered on August 10 , 2018 , and consisted of 13 episodes .\",\n",
      "            \"Rhys Darby as Coran -- The Royal advisor to Princess Allura 's family , Coran was the last known male Altean . Energetic and excitable , Coran serves Allura dutifully whilst being fiercely protective of her . He tends to ramble on and on about his past , particularly about his supposedly daring feats or past experiences . Despite his odd and quirky character , he is a reliable and steadfast ally to his princess and the Paladins .\"\n",
      "        ],\n",
      "        \"scores\": [\n",
      "            76.54590606689453,\n",
      "            75.41366577148438,\n",
      "            74.57583618164062,\n",
      "            74.1953125,\n",
      "            73.92369842529297,\n",
      "            73.71006774902344,\n",
      "            73.68023681640625,\n",
      "            73.576416015625,\n",
      "            73.36024475097656,\n",
      "            73.15026092529297\n",
      "        ]\n",
      "    }\n",
      "]\n"
     ]
    }
   ],
   "source": [
    "queries = ['When was Idaho split in two?' , 'Who was Danny Nozel']\n",
    "retrieved_doc_ids, passages = collection.search(queries)\n",
    "#res, scores = collection.search2(queries)\n",
    "import json\n",
    "print(json.dumps(passages, indent = 4))"
   ]
  },
  {
   "cell_type": "code",
   "execution_count": null,
   "outputs": [],
   "source": [],
   "metadata": {
    "collapsed": false
   }
  }
 ],
 "metadata": {
  "kernelspec": {
   "display_name": "Python 3 (ipykernel)",
   "language": "python",
   "name": "python3"
  },
  "language_info": {
   "codemirror_mode": {
    "name": "ipython",
    "version": 3
   },
   "file_extension": ".py",
   "mimetype": "text/x-python",
   "name": "python",
   "nbconvert_exporter": "python",
   "pygments_lexer": "ipython3",
   "version": "3.9.16"
  }
 },
 "nbformat": 4,
 "nbformat_minor": 2
}
