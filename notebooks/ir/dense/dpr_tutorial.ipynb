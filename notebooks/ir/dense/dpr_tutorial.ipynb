{
 "cells": [
  {
   "cell_type": "markdown",
   "metadata": {},
   "source": [
    "# Tutorial: Retrieval of documents from a corpus using Neural Information Retrieval (IR)\n",
    "\n",
    "In this tutorial you'll learn how to use a popular Neural IR system called DPR [Karpukhin2020].\n",
    "\n",
    "## Step 1: Init -- Initialize your model. In PrimeQA for searching through your corpus, we use a class called SearchableCorpus.\n",
    "\n",
    "For DPR, you need to point to a question and context encoder models available via the HuggingFace model hub."
   ]
  },
  {
   "cell_type": "code",
   "execution_count": 9,
   "metadata": {},
   "outputs": [],
   "source": [
    "from primeqa.util import SearchableCorpus\n",
    "collection = SearchableCorpus(model_name=\"PrimeQA/XOR-TyDi_monolingual_DPR_ctx_encoder\", \n",
    "                              query_encoder_model_name_or_path=\"PrimeQA/XOR-TyDi_monolingual_DPR_qry_encoder\", \n",
    "                              batch_size=64, top_k=10)"
   ]
  },
  {
   "cell_type": "markdown",
   "metadata": {},
   "source": [
    "## Step 2: Add -- add your documents into the searchable corpus.\n",
    "\n",
    "In this step you create a tsv file with the following format:\n",
    "`id \\t text \\t title_of_document`\n",
    "Note: since DPR is based on an encoder language model the typical sequence length is 512 max sub-word tokens. So please make sure your documents are splitted into text length of ~220 words."
   ]
  },
  {
   "cell_type": "code",
   "execution_count": 3,
   "metadata": {},
   "outputs": [
    {
     "name": "stderr",
     "output_type": "stream",
     "text": [
      "49it [00:00, 3919.01it/s]\n"
     ]
    },
    {
     "name": "stdout",
     "output_type": "stream",
     "text": [
      "49\n"
     ]
    },
    {
     "ename": "AttributeError",
     "evalue": "'SearchableCorpus' object has no attribute 'working_dir'",
     "output_type": "error",
     "traceback": [
      "\u001b[0;31m---------------------------------------------------------------------------\u001b[0m",
      "\u001b[0;31mAttributeError\u001b[0m                            Traceback (most recent call last)",
      "\u001b[0;32m/tmp/ipykernel_1019249/2727482833.py\u001b[0m in \u001b[0;36m<module>\u001b[0;34m\u001b[0m\n\u001b[0;32m----> 1\u001b[0;31m \u001b[0mcollection\u001b[0m\u001b[0;34m.\u001b[0m\u001b[0madd_documents\u001b[0m\u001b[0;34m(\u001b[0m\u001b[0;34m\"/dccstor/irl-tableqa/jaydeep/NQ-subset-psgs.tsv\"\u001b[0m\u001b[0;34m)\u001b[0m\u001b[0;34m\u001b[0m\u001b[0;34m\u001b[0m\u001b[0m\n\u001b[0m",
      "\u001b[0;32m/dccstor/irl-tableqa/jaydeep/primeqa/primeqa/util/searchable_corpus.py\u001b[0m in \u001b[0;36madd_documents\u001b[0;34m(self, input_file)\u001b[0m\n\u001b[1;32m    220\u001b[0m     \u001b[0;32mdef\u001b[0m \u001b[0madd_documents\u001b[0m\u001b[0;34m(\u001b[0m\u001b[0mself\u001b[0m\u001b[0;34m,\u001b[0m\u001b[0minput_file\u001b[0m\u001b[0;34m)\u001b[0m\u001b[0;34m:\u001b[0m\u001b[0;34m\u001b[0m\u001b[0;34m\u001b[0m\u001b[0m\n\u001b[1;32m    221\u001b[0m         \u001b[0mdoc_class\u001b[0m \u001b[0;34m=\u001b[0m \u001b[0mDocumentCollection\u001b[0m\u001b[0;34m(\u001b[0m\u001b[0minput_file\u001b[0m\u001b[0;34m)\u001b[0m\u001b[0;34m\u001b[0m\u001b[0;34m\u001b[0m\u001b[0m\n\u001b[0;32m--> 222\u001b[0;31m         \u001b[0mos\u001b[0m\u001b[0;34m.\u001b[0m\u001b[0mmakedirs\u001b[0m\u001b[0;34m(\u001b[0m\u001b[0mos\u001b[0m\u001b[0;34m.\u001b[0m\u001b[0mpath\u001b[0m\u001b[0;34m.\u001b[0m\u001b[0mjoin\u001b[0m\u001b[0;34m(\u001b[0m\u001b[0mself\u001b[0m\u001b[0;34m.\u001b[0m\u001b[0mworking_dir\u001b[0m\u001b[0;34m,\u001b[0m \u001b[0;34m\"processed_data\"\u001b[0m\u001b[0;34m)\u001b[0m\u001b[0;34m)\u001b[0m\u001b[0;34m\u001b[0m\u001b[0;34m\u001b[0m\u001b[0m\n\u001b[0m\u001b[1;32m    223\u001b[0m         \u001b[0mout_file\u001b[0m\u001b[0;34m=\u001b[0m \u001b[0mos\u001b[0m\u001b[0;34m.\u001b[0m\u001b[0mpath\u001b[0m\u001b[0;34m.\u001b[0m\u001b[0mjoin\u001b[0m\u001b[0;34m(\u001b[0m\u001b[0mself\u001b[0m\u001b[0;34m.\u001b[0m\u001b[0mworking_dir\u001b[0m\u001b[0;34m,\u001b[0m \u001b[0;34m\"processed_data\"\u001b[0m\u001b[0;34m,\u001b[0m\u001b[0;34m\"processed_input.tsv\"\u001b[0m\u001b[0;34m)\u001b[0m\u001b[0;34m\u001b[0m\u001b[0;34m\u001b[0m\u001b[0m\n\u001b[1;32m    224\u001b[0m         \u001b[0moutput_file_path\u001b[0m\u001b[0;34m=\u001b[0m \u001b[0mdoc_class\u001b[0m\u001b[0;34m.\u001b[0m\u001b[0mwrite_corpus_tsv\u001b[0m\u001b[0;34m(\u001b[0m\u001b[0mout_file\u001b[0m\u001b[0;34m)\u001b[0m\u001b[0;34m\u001b[0m\u001b[0;34m\u001b[0m\u001b[0m\n",
      "\u001b[0;31mAttributeError\u001b[0m: 'SearchableCorpus' object has no attribute 'working_dir'"
     ]
    }
   ],
   "source": [
    "# an example subset of NQ passages\n",
    "collection.add_documents(\"/dccstor/avi8/vector_db/sample.psgs.tsv\")"
   ]
  },
  {
   "cell_type": "code",
   "execution_count": 3,
   "metadata": {},
   "outputs": [],
   "source": [
    "## Step 3: Search -- start asking questions.\n",
    "\n",
    "Your queries can be a list. You can also retrieve the scores of "
   ]
  },
  {
   "cell_type": "code",
   "execution_count": 11,
   "metadata": {},
   "outputs": [
    {
     "name": "stdout",
     "output_type": "stream",
     "text": [
      "[\n",
      "    {\n",
      "        \"titles\": [\n",
      "            \"I Will Always Love You\",\n",
      "            \"History of Idaho\",\n",
      "            \"I Will Always Love You\",\n",
      "            \"I Will Always Love You\",\n",
      "            \"History of Idaho\",\n",
      "            \"I Will Always Love You\",\n",
      "            \"I Will Always Love You\",\n",
      "            \"I Will Always Love You\",\n",
      "            \"I Will Always Love You\",\n",
      "            \"History of Idaho\"\n",
      "        ],\n",
      "        \"texts\": [\n",
      "            \"- end review two years in a row . In Australia , it was the number 17 single of 1992 and the number two song of 1993 . Houston 's single was also an international success , peaking at number one of the singles charts in almost all countries , including the Eurochart Hot 100 Singles , where it spent 13 weeks at the top . The single ruled the summit position for ten weeks in Australia , five weeks in Austria , seven weeks for Belgium , eight weeks in France , six weeks in Germany , eight weeks in Ireland , two weeks in Italy , six weeks in Netherlands , 11 weeks in New Zealand , nine weeks in Norway , one week in Spain , six weeks in Sweden , eight weeks in Switzerland , and ten weeks in the United Kingdom . Houston 's 10 - week reign in the UK set the record for the longest run at the top by a solo female artist in the history of the British singles chart . It is the only single to have topped the United States , the United Kingdom , and Australian singles charts for at least ten weeks . Only a few hours after Houston 's death on February 11 , 2012 , `` I Will Always Love You '' topped the US iTunes charts . Also , in the week following her death , the single returned to the Billboard Hot 100\",\n",
      "            \"of several states that received the brunt of nuclear fallout from tests at the Nevada Test Site during the 1950s and 1960s . Reports published by the U.S. government indicate that many Idaho citizens perished and continue to suffer as a result of these tests . As of September 2007 , there were continuing efforts in the U.S. congress to compensate victims .\",\n",
      "            \"Houston 's `` I Will Always Love You '' Problems playing this file ? See media help . In 1992 , R&B singer Whitney Houston recorded a new arrangement of `` I Will Always Love You '' for the soundtrack to The Bodyguard , her film debut . The song has a saxophone solo by Kirk Whalum . She was originally to record Jimmy Ruffin 's `` What Becomes of the Brokenhearted '' as the lead single from The Bodyguard . However , when it was discovered the song was to be used for Fried Green Tomatoes , Houston requested a different song . It was her co-star Kevin Costner who suggested `` I Will Always Love You '' , playing her Linda Ronstadt 's 1975 version from her album Prisoner in Disguise . Producer David Foster re-arranged the song as a soul ballad . Her record company did not feel a song with an a cappella introduction would be as successful ; however , Houston and Costner insisted on retaining it . When Parton heard that Houston was using Ronstadt 's recording as a template , she called Foster to give him the final verse , which was missing from the Ronstadt recording , as she felt it was important to the song . The tenor saxophone solo was played by Kirk Whalum . Whitney Houston 's recording is not the only version of the song featured in the movie . In a scene where she dances with Kevin\",\n",
      "            \"after almost 20 years , debuting at number 7 , and becoming a posthumous top - ten single for Houston , the first one since 2001 . The song eventually peaked at No. 3 , two spots shy of becoming the first song to return to the No. 1 position after falling off the chart since `` The Twist '' by Chubby Checker . It debuted on the Billboard Hot Digital Singles Chart at number 3 on the chart dated February 25 , 2012 , with over 195,000 copies downloaded . In the United Kingdom , the song charted at number 10 the week of Houston 's death . Houston 's single sold approximately 400,000 copies in its second week at the top of the charts , making it the best - selling song in a single week surpassing Bryan Adams ' `` ( Everything I Do ) I Do It for You '' . It broke its own record in the following three weeks , peaking at 632,000 copies in the week ending December 27 , 1992 . The January 9 , 1993 issue of Billboard reported it had broken its own record for most copies sold in a single week for any song in the Nielsen SoundsScan era . This record was broken by Elton John 's `` Candle in the Wind 1997 / Something About the Way You Look Tonight '' , which sold 3.4 million in the final week of September 1997 . `` I Will\",\n",
      "            \"The history of Idaho is an examination of the human history and social activity within the state of Idaho , one of the United States of America located in the Pacific Northwest area near the west coast of the United States and Canada . Other associated areas include southern Alaska , all of British Columbia , Washington , Oregon , western Montana and northern California and Nevada . Humans may have been present in Idaho for 14,500 years . Excavations in 1959 at Wilson Butte Cave near Twin Falls revealed evidence of human activity , including arrowheads , that rank among the oldest dated artifacts in North America . American Indian tribes predominant in the area in historic times included the Nez Perce and the Coeur d'Alene in the north ; and the Northern and Western Shoshone and Bannock peoples in the south . Cataldo Mission U.S. National Register of Historic Places U.S. National Historic Landmark HABS , view from northwest , in 1957 . Location Cataldo , Idaho Built 1848 Architect Antonio Ravalli Architectural style Greek Revival , Colonial , Other NRHP reference # 66000312 Significant dates Added to NRHP October 15 , 1966 Designated NHL July 4 , 1961 Cataldo Mission U.S. National Register of Historic Places U.S. National Historic Landmark HABS , view from northwest , in 1957 . Location Cataldo , Idaho Built 1848 Architect Antonio Ravalli Architectural style Greek Revival , Colonial , Other NRHP reference # 66000312 Significant dates Added to NRHP October 15\",\n",
      "            \"Whitney ( Houston 's version ) came out , I made enough money to buy Graceland . In Curtis W. Ellison 's book , Country Music Culture : From Hard Times to Heaven ( 1995 ) , he stated : `` In the early 1990s , when ambiguity in romantic relationships accompanies changing expectations for both men and women , this song demonstrates Dolly Parton 's appeal as a songwriter in the pop music market . '' Ken Knight , author of The Midnight Show : Late Night Cable - TV `` Guy - Flicks '' of the ' 80s ( 2008 ) , commented that Parton is the only singer who can sing `` I Will Always Love You '' and `` make it memorable '' . Writer Paul Simpson criticized the singer , stating that the track was only written to `` soften the blow '' of Parton and Wagoner 's split . 7 '' vinyl 7 '' vinyl `` I Will Always Love You '' -- 2 : 53 `` Lonely Comin ' Down '' -- 3 : 09 `` I Will Always Love You '' -- 2 : 53 `` Lonely Comin ' Down '' -- 3 : 09 Dolly Parton -- vocals , guitar Jimmy Colvard -- guitar Chip Young -- guitar Stu Basore -- pedal steel guitar Bobby Dyson -- bass Larrie Londin -- drums Ralph Gallant -- drums Buck Trent -- banjo Bobby Thompson -- banjo Mack Magaha -- fiddle Johnny Gimble --\",\n",
      "            \"Chart Austrian Singles Chart 8 Belgian Singles Chart ( Flanders ) 16 Canadian Singles Chart Canadian Adult Contemporary Singles 7 Dutch Top 40 13 Dutch Single Top 100 5 Finnish Singles Chart 5 Japanese Singles Chart 31 New Zealand Singles Chart Swiss Singles Chart 7 UK Singles Chart 9 US Billboard Hot 100 US Adult Contemporary 18 US Hot Pop Singles US Hot R&B Singles Year - end chart ( 2012 ) Position Spanish Singles Chart 49 Decade - end chart ( 1990 -- 1999 ) Position Dutch Top 40 24 UK Singles Chart 10 US Billboard Hot 100 7 All - time charts ( edit ) Chart Rank As of Year US Billboard Hot 100 51 2015 US Billboard Hot 100 ( Women ) 16 2018 Weekly chart ( 1992 -- 93 ) Peak position Australia ( ARIA ) Austria ( \\u00d63 Austria Top 40 ) Belgium ( VRT Top 30 ) Canada ( RPM ) Denmark ( IFPI ) Europe ( European Hot 100 ) Finland ( Suomen virallinen lista ) France ( SNEP ) Germany ( Media Control Charts ) Greece ( Pop + Rock ) Iceland ( \\u00cdslenski Listinn Topp 40 ) Ireland ( IRMA ) Italy ( Musica e dischi ) Japan ( Oricon Charts ) 5 Netherlands ( Dutch Top 40 ) Netherlands ( Single Top 100 ) New Zealand ( RIANZ ) Norway ( VG - lista ) Portugal ( AFP ) Spain ( AFYVE ) Sweden ( Sverigetopplistan ) Switzerland ( Schweizer\",\n",
      "            \"1994 Grammy Awards for the recording , Parton ( along with David Foster ) presented her with the award . In a statement to Billboard on the day of Houston 's death in February 2012 , Parton said : Mine is only one of the millions of hearts broken over the death of Whitney Houston . I will always be grateful and in awe of the wonderful performance she did on my song and I can truly say from the bottom of my heart , ' Whitney , I will always love you . You will be missed . ' The single 's music video , is credited to Alan Smithee ( Nick Brandt removed his name due to the way Clive Davis re-edited the video ) , and produced by Rob Newman . It begins with the performance of the song Houston gives at the end of The Bodyguard . The video then cuts to Houston in a dark blue suit sitting in an empty theater with the spotlight shining on her , singing of her love , and at the end of the video , Houston 's theater changes into open camp circled by snow . The video is inter-cut with scenes from The Bodyguard and gives the viewer the experience of reliving the moments with the singer . At the time of the video 's shooting Houston was pregnant with her daughter Bobbi Kristina so is shown only sitting in the theater scenes . ' UK /\",\n",
      "            \"Costner , a version by John Doe can be heard playing on a jukebox . Houston 's version appears at No. 9 on NME 's Greatest No 1 Singles in History list . In 2004 , Houston 's version of `` I Will Always Love You '' finished at # 65 on AFI 's 100 Years ... 100 Songs survey of top tunes in American cinema . It was also ranked at number 22 on The Guardian 's list of Britain 's favorite 100 songs , published in May 2002 . In February 2014 , the song was placed at number six on Billboard 's list of the Top 50 ' Love ' Songs of All Time . A live performance was included on the 1999 release Divas Live ' 99 , and on the 2014 CD / DVD release of Whitney Houston Live : Her Greatest Performances , a 1994 performance of the song was included as well . The single spent 14 weeks at the top of the US Billboard Hot 100 , which at the time was a record . It became Houston 's longest run at number one , surpassing her previous record of three weeks with the `` Greatest Love of All '' in 1986 . It is also the longest running number one single from a soundtrack album . It debuted at number 40 on the Billboard Hot 100 , and became Houston 's tenth number one entry two weeks later . It also\",\n",
      "            \"government in such situations . In 2001 , the Aryan Nations compound , which had been located in Hayden Lake , Idaho , was confiscated as a result of a court case , and the organization moved out of state . About the same time Boise installed an impressive stone Human Rights Memorial featuring a bronze statue of Anne Frank and quotations from her and many other writers extolling human freedom and equality . A recent poll found that Idaho citizens accept people of different cultures and ethnicities . The demographics of the state have changed . Due to this growth in different groups , especially in Boise , the economic expansion surged wrong - economic growth followed the high standard of living and resulted in the `` growth of different groups '' . The population of Idaho in the 21st Century has been described as sharply divided along geographic and cultural lines due to the center of the state being dominated by sparsely - populated national forests , mountain ranges and recreation sites : `` unless you 're willing to navigate a treacherous mountain pass , you ca n't even drive from the north to the south without leaving the state . '' The northern population gravitates towards Spokane , Washington , the heavily Mormon south - east population towards Utah , with an isolated Boise `` ( being ) the closest thing to a city - state that you 'll find in America . '' Idaho was one\"\n",
      "        ],\n",
      "        \"scores\": [\n",
      "            -8.560769081115723,\n",
      "            -8.915640830993652,\n",
      "            -10.117661476135254,\n",
      "            -10.613166809082031,\n",
      "            -12.882975578308105,\n",
      "            -13.154298782348633,\n",
      "            -13.428258895874023,\n",
      "            -13.435401916503906,\n",
      "            -13.582328796386719,\n",
      "            -14.247852325439453\n",
      "        ]\n",
      "    },\n",
      "    {\n",
      "        \"titles\": [\n",
      "            \"History of Idaho\",\n",
      "            \"I Will Always Love You\",\n",
      "            \"I Will Always Love You\",\n",
      "            \"I Will Always Love You\",\n",
      "            \"I Will Always Love You\",\n",
      "            \"I Will Always Love You\",\n",
      "            \"History of Idaho\",\n",
      "            \"History of Idaho\",\n",
      "            \"History of Idaho\",\n",
      "            \"I Will Always Love You\"\n",
      "        ],\n",
      "        \"texts\": [\n",
      "            \"of several states that received the brunt of nuclear fallout from tests at the Nevada Test Site during the 1950s and 1960s . Reports published by the U.S. government indicate that many Idaho citizens perished and continue to suffer as a result of these tests . As of September 2007 , there were continuing efforts in the U.S. congress to compensate victims .\",\n",
      "            \"Houston 's `` I Will Always Love You '' Problems playing this file ? See media help . In 1992 , R&B singer Whitney Houston recorded a new arrangement of `` I Will Always Love You '' for the soundtrack to The Bodyguard , her film debut . The song has a saxophone solo by Kirk Whalum . She was originally to record Jimmy Ruffin 's `` What Becomes of the Brokenhearted '' as the lead single from The Bodyguard . However , when it was discovered the song was to be used for Fried Green Tomatoes , Houston requested a different song . It was her co-star Kevin Costner who suggested `` I Will Always Love You '' , playing her Linda Ronstadt 's 1975 version from her album Prisoner in Disguise . Producer David Foster re-arranged the song as a soul ballad . Her record company did not feel a song with an a cappella introduction would be as successful ; however , Houston and Costner insisted on retaining it . When Parton heard that Houston was using Ronstadt 's recording as a template , she called Foster to give him the final verse , which was missing from the Ronstadt recording , as she felt it was important to the song . The tenor saxophone solo was played by Kirk Whalum . Whitney Houston 's recording is not the only version of the song featured in the movie . In a scene where she dances with Kevin\",\n",
      "            \"1994 Grammy Awards for the recording , Parton ( along with David Foster ) presented her with the award . In a statement to Billboard on the day of Houston 's death in February 2012 , Parton said : Mine is only one of the millions of hearts broken over the death of Whitney Houston . I will always be grateful and in awe of the wonderful performance she did on my song and I can truly say from the bottom of my heart , ' Whitney , I will always love you . You will be missed . ' The single 's music video , is credited to Alan Smithee ( Nick Brandt removed his name due to the way Clive Davis re-edited the video ) , and produced by Rob Newman . It begins with the performance of the song Houston gives at the end of The Bodyguard . The video then cuts to Houston in a dark blue suit sitting in an empty theater with the spotlight shining on her , singing of her love , and at the end of the video , Houston 's theater changes into open camp circled by snow . The video is inter-cut with scenes from The Bodyguard and gives the viewer the experience of reliving the moments with the singer . At the time of the video 's shooting Houston was pregnant with her daughter Bobbi Kristina so is shown only sitting in the theater scenes . ' UK /\",\n",
      "            \"after almost 20 years , debuting at number 7 , and becoming a posthumous top - ten single for Houston , the first one since 2001 . The song eventually peaked at No. 3 , two spots shy of becoming the first song to return to the No. 1 position after falling off the chart since `` The Twist '' by Chubby Checker . It debuted on the Billboard Hot Digital Singles Chart at number 3 on the chart dated February 25 , 2012 , with over 195,000 copies downloaded . In the United Kingdom , the song charted at number 10 the week of Houston 's death . Houston 's single sold approximately 400,000 copies in its second week at the top of the charts , making it the best - selling song in a single week surpassing Bryan Adams ' `` ( Everything I Do ) I Do It for You '' . It broke its own record in the following three weeks , peaking at 632,000 copies in the week ending December 27 , 1992 . The January 9 , 1993 issue of Billboard reported it had broken its own record for most copies sold in a single week for any song in the Nielsen SoundsScan era . This record was broken by Elton John 's `` Candle in the Wind 1997 / Something About the Way You Look Tonight '' , which sold 3.4 million in the final week of September 1997 . `` I Will\",\n",
      "            \"- end review two years in a row . In Australia , it was the number 17 single of 1992 and the number two song of 1993 . Houston 's single was also an international success , peaking at number one of the singles charts in almost all countries , including the Eurochart Hot 100 Singles , where it spent 13 weeks at the top . The single ruled the summit position for ten weeks in Australia , five weeks in Austria , seven weeks for Belgium , eight weeks in France , six weeks in Germany , eight weeks in Ireland , two weeks in Italy , six weeks in Netherlands , 11 weeks in New Zealand , nine weeks in Norway , one week in Spain , six weeks in Sweden , eight weeks in Switzerland , and ten weeks in the United Kingdom . Houston 's 10 - week reign in the UK set the record for the longest run at the top by a solo female artist in the history of the British singles chart . It is the only single to have topped the United States , the United Kingdom , and Australian singles charts for at least ten weeks . Only a few hours after Houston 's death on February 11 , 2012 , `` I Will Always Love You '' topped the US iTunes charts . Also , in the week following her death , the single returned to the Billboard Hot 100\",\n",
      "            \"Chart Austrian Singles Chart 8 Belgian Singles Chart ( Flanders ) 16 Canadian Singles Chart Canadian Adult Contemporary Singles 7 Dutch Top 40 13 Dutch Single Top 100 5 Finnish Singles Chart 5 Japanese Singles Chart 31 New Zealand Singles Chart Swiss Singles Chart 7 UK Singles Chart 9 US Billboard Hot 100 US Adult Contemporary 18 US Hot Pop Singles US Hot R&B Singles Year - end chart ( 2012 ) Position Spanish Singles Chart 49 Decade - end chart ( 1990 -- 1999 ) Position Dutch Top 40 24 UK Singles Chart 10 US Billboard Hot 100 7 All - time charts ( edit ) Chart Rank As of Year US Billboard Hot 100 51 2015 US Billboard Hot 100 ( Women ) 16 2018 Weekly chart ( 1992 -- 93 ) Peak position Australia ( ARIA ) Austria ( \\u00d63 Austria Top 40 ) Belgium ( VRT Top 30 ) Canada ( RPM ) Denmark ( IFPI ) Europe ( European Hot 100 ) Finland ( Suomen virallinen lista ) France ( SNEP ) Germany ( Media Control Charts ) Greece ( Pop + Rock ) Iceland ( \\u00cdslenski Listinn Topp 40 ) Ireland ( IRMA ) Italy ( Musica e dischi ) Japan ( Oricon Charts ) 5 Netherlands ( Dutch Top 40 ) Netherlands ( Single Top 100 ) New Zealand ( RIANZ ) Norway ( VG - lista ) Portugal ( AFP ) Spain ( AFYVE ) Sweden ( Sverigetopplistan ) Switzerland ( Schweizer\",\n",
      "            \"The history of Idaho is an examination of the human history and social activity within the state of Idaho , one of the United States of America located in the Pacific Northwest area near the west coast of the United States and Canada . Other associated areas include southern Alaska , all of British Columbia , Washington , Oregon , western Montana and northern California and Nevada . Humans may have been present in Idaho for 14,500 years . Excavations in 1959 at Wilson Butte Cave near Twin Falls revealed evidence of human activity , including arrowheads , that rank among the oldest dated artifacts in North America . American Indian tribes predominant in the area in historic times included the Nez Perce and the Coeur d'Alene in the north ; and the Northern and Western Shoshone and Bannock peoples in the south . Cataldo Mission U.S. National Register of Historic Places U.S. National Historic Landmark HABS , view from northwest , in 1957 . Location Cataldo , Idaho Built 1848 Architect Antonio Ravalli Architectural style Greek Revival , Colonial , Other NRHP reference # 66000312 Significant dates Added to NRHP October 15 , 1966 Designated NHL July 4 , 1961 Cataldo Mission U.S. National Register of Historic Places U.S. National Historic Landmark HABS , view from northwest , in 1957 . Location Cataldo , Idaho Built 1848 Architect Antonio Ravalli Architectural style Greek Revival , Colonial , Other NRHP reference # 66000312 Significant dates Added to NRHP October 15\",\n",
      "            \"government in such situations . In 2001 , the Aryan Nations compound , which had been located in Hayden Lake , Idaho , was confiscated as a result of a court case , and the organization moved out of state . About the same time Boise installed an impressive stone Human Rights Memorial featuring a bronze statue of Anne Frank and quotations from her and many other writers extolling human freedom and equality . A recent poll found that Idaho citizens accept people of different cultures and ethnicities . The demographics of the state have changed . Due to this growth in different groups , especially in Boise , the economic expansion surged wrong - economic growth followed the high standard of living and resulted in the `` growth of different groups '' . The population of Idaho in the 21st Century has been described as sharply divided along geographic and cultural lines due to the center of the state being dominated by sparsely - populated national forests , mountain ranges and recreation sites : `` unless you 're willing to navigate a treacherous mountain pass , you ca n't even drive from the north to the south without leaving the state . '' The northern population gravitates towards Spokane , Washington , the heavily Mormon south - east population towards Utah , with an isolated Boise `` ( being ) the closest thing to a city - state that you 'll find in America . '' Idaho was one\",\n",
      "            \"by William Clark but considered a full member of Corps of Discovery during expedition to the Pacific , was the first recorded African American in Idaho . There is a significant African American population made up of those who came west after the abolition of slavery . Many settled near Pocatello and were ranchers , entertainers , and farmers . Although free , many blacks suffered discrimination in the early - to - mid-late 20th century . The black population of the state continues to grow as many come to the state because of educational opportunities , to serve in the military , and for other employment opportunities . There is a Black History Museum in Boise , Idaho , with an exhibit known as the `` Invisible Idahoan '' , which chronicles the first African - Americans in the state . Blacks are the fourth largest ethnic group in Idaho according to the 2000 census . Mountain Home , Boise , and Garden City have significant African - American populations . However , many major cities , such as Boise , have a small population of African Americans . The Basque people from the Iberian peninsula in Spain and southern France were traditionally shepherds in Europe . They came to Idaho , offering hard work and perseverance in exchange for opportunity . One of the largest Basque communities in the US is in Boise , with a Basque museum and festival held annually in the city . Chinese in\",\n",
      "            \"Whitney ( Houston 's version ) came out , I made enough money to buy Graceland . In Curtis W. Ellison 's book , Country Music Culture : From Hard Times to Heaven ( 1995 ) , he stated : `` In the early 1990s , when ambiguity in romantic relationships accompanies changing expectations for both men and women , this song demonstrates Dolly Parton 's appeal as a songwriter in the pop music market . '' Ken Knight , author of The Midnight Show : Late Night Cable - TV `` Guy - Flicks '' of the ' 80s ( 2008 ) , commented that Parton is the only singer who can sing `` I Will Always Love You '' and `` make it memorable '' . Writer Paul Simpson criticized the singer , stating that the track was only written to `` soften the blow '' of Parton and Wagoner 's split . 7 '' vinyl 7 '' vinyl `` I Will Always Love You '' -- 2 : 53 `` Lonely Comin ' Down '' -- 3 : 09 `` I Will Always Love You '' -- 2 : 53 `` Lonely Comin ' Down '' -- 3 : 09 Dolly Parton -- vocals , guitar Jimmy Colvard -- guitar Chip Young -- guitar Stu Basore -- pedal steel guitar Bobby Dyson -- bass Larrie Londin -- drums Ralph Gallant -- drums Buck Trent -- banjo Bobby Thompson -- banjo Mack Magaha -- fiddle Johnny Gimble --\"\n",
      "        ],\n",
      "        \"scores\": [\n",
      "            -9.408303260803223,\n",
      "            -10.239485740661621,\n",
      "            -10.736518859863281,\n",
      "            -11.096356391906738,\n",
      "            -11.994935989379883,\n",
      "            -13.175246238708496,\n",
      "            -13.490300178527832,\n",
      "            -14.232863426208496,\n",
      "            -14.315608978271484,\n",
      "            -14.481061935424805\n",
      "        ]\n",
      "    }\n",
      "]\n"
     ]
    }
   ],
   "source": [
    "queries = ['When was Idaho split in two?' , 'Who was Danny Nozel']\n",
    "retrieved_doc_ids, passages = collection.search(queries)\n",
    "#res, scores = collection.search2(queries)\n",
    "import json\n",
    "print(json.dumps(passages, indent = 4))"
   ]
  },
  {
   "cell_type": "code",
   "execution_count": null,
   "metadata": {},
   "outputs": [],
   "source": []
  }
 ],
 "metadata": {
  "kernelspec": {
   "display_name": "Python 3 (ipykernel)",
   "language": "python",
   "name": "python3"
  },
  "language_info": {
   "codemirror_mode": {
    "name": "ipython",
    "version": 3
   },
   "file_extension": ".py",
   "mimetype": "text/x-python",
   "name": "python",
   "nbconvert_exporter": "python",
   "pygments_lexer": "ipython3",
   "version": "3.9.16"
  }
 },
 "nbformat": 4,
 "nbformat_minor": 2
}
